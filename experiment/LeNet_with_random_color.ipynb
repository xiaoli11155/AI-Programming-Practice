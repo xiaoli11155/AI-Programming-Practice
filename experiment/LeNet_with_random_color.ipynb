{
 "cells": [
  {
   "cell_type": "code",
   "execution_count": 2,
   "id": "12698eae-fee7-4e6d-a34e-5e0b7403de15",
   "metadata": {},
   "outputs": [],
   "source": [
    "import os\n",
    "\n",
    "import numpy as np\n",
    "from PIL import Image\n",
    "\n",
    "import matplotlib.pyplot as plt\n",
    "\n",
    "import torch\n",
    "import torch.nn as nn\n",
    "import torch.nn.functional as F\n",
    "import torch.optim as optim\n",
    "from torch.autograd import grad\n",
    "from torchvision import transforms\n",
    "from torchvision import datasets\n",
    "import torchvision.datasets.utils as dataset_utils"
   ]
  },
  {
   "cell_type": "code",
   "execution_count": 3,
   "id": "51649012-cd82-4485-8cc4-dc30e820f040",
   "metadata": {},
   "outputs": [],
   "source": [
    "def color_grayscale_arr(arr, forground_color, background_color):\n",
    "    \"\"\"Converts grayscale image\"\"\"\n",
    "    assert arr.ndim == 2\n",
    "    dtype = arr.dtype\n",
    "    h, w = arr.shape\n",
    "    arr = np.reshape(arr, [h, w, 1])#增加一个“通道”维度\n",
    "    if background_color == \"black\":\n",
    "        if forground_color == \"red\":\n",
    "            arr = np.concatenate([arr,\n",
    "                              np.zeros((h, w, 2), dtype=dtype)], axis=2)#创建全零数组作为绿色和蓝色通道，表示全红色\n",
    "        elif forground_color == \"green\":\n",
    "            arr = np.concatenate([np.zeros((h, w, 1), dtype=dtype),\n",
    "                              arr,\n",
    "                              np.zeros((h, w, 1), dtype=dtype)], axis=2)\n",
    "        elif forground_color==\"blue\":\n",
    "            arr = np.concatenate([np.zeros((h, w, 1), dtype=dtype),\n",
    "                              np.zeros((h, w, 1), dtype=dtype),\n",
    "                              arr], axis=2)\n",
    "        elif forground_color == \"white\":\n",
    "            arr = np.concatenate([arr, arr, arr], axis=2)\n",
    "    else:\n",
    "        if forground_color == \"yellow\":\n",
    "            arr = np.concatenate([arr, arr, np.zeros((h, w, 1), dtype=dtype)], axis=2)\n",
    "        else:\n",
    "            arr = np.concatenate([np.zeros((h, w, 2), dtype=dtype), arr], axis=2)\n",
    "\n",
    "        c = [255, 255, 255]\n",
    "        arr[:, :, 0] = (255 - arr[:, :, 0]) / 255 * c[0]\n",
    "        arr[:, :, 1] = (255 - arr[:, :, 1]) / 255 * c[1]\n",
    "        arr[:, :, 2] = (255 - arr[:, :, 2]) / 255 * c[2]\n",
    "        #0.299*R + 0.587*G + 0.114*B\n",
    "    #arr[:,:,0]=0.299*arr[:,:,0]+0.587*arr[:,:,1]+0.114*arr[:,:,2]\n",
    "    return arr\n",
    "\n",
    "\n",
    "class ColoredMNIST(datasets.VisionDataset):\n",
    "\n",
    "    def __init__(self, root='./data', env='train1', transform=None, target_transform=None):\n",
    "        super(ColoredMNIST, self).__init__(root, transform=transform,\n",
    "                                           target_transform=target_transform)\n",
    "\n",
    "        self.prepare_colored_mnist()\n",
    "        if env in ['train1', 'train2', 'train3', 'test1', 'test2']:\n",
    "            self.data_label_tuples = torch.load(os.path.join(self.root, 'ColoredMNIST', env) + '.pt',\n",
    "                                               weights_only=False)\n",
    "        elif env == 'all_train':\n",
    "            train1_data = torch.load(os.path.join(self.root, 'ColoredMNIST', 'train1.pt'),\n",
    "                                                weights_only=False ) \n",
    "            train2_data=torch.load(os.path.join(self.root, 'ColoredMNIST', 'train2.pt'),\n",
    "                                                weights_only=False)\n",
    "            train3_data=torch.load(os.path.join(self.root, 'ColoredMNIST', 'train3.pt'),\n",
    "                                                weights_only=False)\n",
    "            self.data_label_tuples = train1_data + train2_data + train3_data\n",
    "        else:\n",
    "            raise RuntimeError(f'{env} env unknown. Valid envs are train1, train2, train3, test1, test2, and all_train')\n",
    "\n",
    "    def __getitem__(self, index):\n",
    "        \"\"\"\n",
    "    Args:\n",
    "        index (int): Index\n",
    "\n",
    "    Returns:\n",
    "        tuple: (image, target) where target is index of the target class.\n",
    "    \"\"\"\n",
    "        img, target = self.data_label_tuples[index]\n",
    "\n",
    "        if self.transform is not None:\n",
    "            img = self.transform(img)\n",
    "\n",
    "        if self.target_transform is not None:\n",
    "            target = self.target_transform(target)\n",
    "\n",
    "        return img, target\n",
    "\n",
    "    def __len__(self):\n",
    "        return len(self.data_label_tuples)\n",
    "\n",
    "    def prepare_colored_mnist(self):\n",
    "        colored_mnist_dir = os.path.join(self.root, 'ColoredMNIST')\n",
    "        if os.path.exists(os.path.join(colored_mnist_dir, 'train1.pt')) \\\n",
    "                and os.path.exists(os.path.join(colored_mnist_dir, 'train2.pt')) \\\n",
    "                and os.path.exists(os.path.join(colored_mnist_dir, 'train3.pt')) \\\n",
    "                and os.path.exists(os.path.join(colored_mnist_dir, 'test1.pt')) \\\n",
    "                and os.path.exists(os.path.join(colored_mnist_dir, 'test2.pt')):\n",
    "            print('Colored MNIST dataset already exists')\n",
    "            return\n",
    "\n",
    "        print('Preparing Colored MNIST')\n",
    "        train_mnist = datasets.mnist.MNIST(self.root, train=True, download=True)\n",
    "\n",
    "        train1_set = []\n",
    "        train2_set = []\n",
    "        train3_set = []\n",
    "        test1_set, test2_set = [], []\n",
    "        for idx, (im, label) in enumerate(train_mnist):\n",
    "            if idx % 10000 == 0:\n",
    "                print(f'Converting image {idx}/{len(train_mnist)}')\n",
    "            im_array = np.array(im)\n",
    "            \n",
    "            # Assign a binary label y to the image based on the digit\n",
    "            binary_label = 0 if label < 5 else 1\n",
    "\n",
    "            # Color the image according to its environment label\n",
    "\n",
    "            if idx < 10000:\n",
    "                colored_arr = color_grayscale_arr(im_array, forground_color = \"red\", background_color = \"black\")\n",
    "                train1_set.append((Image.fromarray(colored_arr), binary_label))\n",
    "            elif idx < 20000:\n",
    "                colored_arr = color_grayscale_arr(im_array, forground_color = \"green\", background_color = \"black\")\n",
    "                train2_set.append((Image.fromarray(colored_arr), binary_label))\n",
    "            elif idx < 30000:\n",
    "                colored_arr = color_grayscale_arr(im_array, forground_color = \"white\", background_color = \"black\")\n",
    "                train3_set.append((Image.fromarray(colored_arr), binary_label))\n",
    "            elif idx < 45000:\n",
    "                colored_arr = color_grayscale_arr(im_array, forground_color = \"yellow\", background_color = \"white\")\n",
    "                test1_set.append((Image.fromarray(colored_arr), binary_label))\n",
    "            else:\n",
    "                colored_arr = color_grayscale_arr(im_array, forground_color = \"blue\", background_color = \"white\")\n",
    "                test2_set.append((Image.fromarray(colored_arr), binary_label))\n",
    "                \n",
    "            # Image.fromarray(colored_arr).save('./data/sample/{}.png'.format(idx))\n",
    "\n",
    "        if not os.path.exists(colored_mnist_dir):\n",
    "            os.makedirs(colored_mnist_dir)\n",
    "        torch.save(train1_set, os.path.join(colored_mnist_dir, 'train1.pt'))\n",
    "        torch.save(train2_set, os.path.join(colored_mnist_dir, 'train2.pt'))\n",
    "        torch.save(train3_set, os.path.join(colored_mnist_dir, 'train3.pt'))\n",
    "        torch.save(test1_set, os.path.join(colored_mnist_dir, 'test1.pt'))\n",
    "        torch.save(test2_set, os.path.join(colored_mnist_dir, 'test2.pt'))"
   ]
  },
  {
   "cell_type": "code",
   "execution_count": 4,
   "id": "1701f741-4fb6-4665-bcaf-e0568271cf4f",
   "metadata": {},
   "outputs": [],
   "source": [
    "import random\n",
    "class RandomColoring(torch.nn.Module):\n",
    "    def __init__(self):\n",
    "        super().__init__()\n",
    "\n",
    "    def _generate_random_color(self):\n",
    "        #生成一个随机的RGB颜色元组，值在[0, 1]之间\n",
    "        return (random.random(), random.random(), random.random())\n",
    "\n",
    "    def forward(self, tensor_image: torch.Tensor) -> torch.Tensor:\n",
    "        #这个变换要在ToTensor之后做，注意：ToTensor会把颜色的三通道放在第一个维度！！\n",
    "       \n",
    "        #识别前景和背景，黑色背景中有值的就是数字\n",
    "        #从通道检查，如果该位置任意个通道有值，那它就是数字所在的位置，这将返回一个28*28的掩码数组，表示对应位置有没有数字\n",
    "        foreground_mask=torch.any(tensor_image > 0, dim=0)\n",
    "        background_mask=~foreground_mask\n",
    "        #print(foreground_mask)\n",
    "\n",
    "        #生成随机的前景色和背景色\n",
    "        foreground_color=self._generate_random_color()\n",
    "        background_color=self._generate_random_color()\n",
    "        #如果颜色太近重新生成\n",
    "        while torch.linalg.norm(torch.tensor(foreground_color)-torch.tensor(background_color))< 0.5:\n",
    "            background_color = self._generate_random_color()\n",
    "\n",
    "        #先创建一个用背景色填充的图像\n",
    "        new_image = torch.zeros_like(tensor_image)\n",
    "        new_image[0,:, :] = background_color[0]\n",
    "        new_image[1,:, :] = background_color[1]\n",
    "        new_image[2,:, :] = background_color[2]\n",
    "        \n",
    "        #在新图像上使用掩码将有数字的位置设置为前景色\n",
    "        new_image[0,foreground_mask] = foreground_color[0]\n",
    "        new_image[1,foreground_mask] = foreground_color[1]\n",
    "        new_image[2,foreground_mask] = foreground_color[2]\n",
    "        \n",
    "        return new_image"
   ]
  },
  {
   "cell_type": "code",
   "execution_count": 5,
   "id": "4a0558fd-585d-4726-b138-e0bca36b5e0b",
   "metadata": {},
   "outputs": [],
   "source": [
    "#预处理过程\n",
    "\n",
    "train_transform=transforms.Compose([\n",
    "    #transforms.Grayscale(num_output_channels=1), \n",
    "    # transforms.RandomResizedCrop(28, scale=(0.8, 1.0)),  # 随机裁剪并缩放  \n",
    "    # transforms.RandomGrayscale(p=0.1),       # 随机灰度化\n",
    "    #degrees旋转角度（最大20度），translate平移的最大距离（宽度的0.1倍），shear剪切变换的角度范围\n",
    "    # transforms.RandomAffine(degrees=20, translate=(0.1, 0.1),shear=10, scale=(0.9, 1.1)),  \n",
    "    transforms.ToTensor(),\n",
    "    RandomColoring(),\n",
    "    # transforms.RandomErasing(p=0.3, scale=(0.02, 0.1), ratio=(0.3, 3.3)),  # 随机擦除，scale擦除区域的面积范围，ratio擦除区域的宽高比的范围\n",
    "    transforms.Normalize((0.5,0.5,0.5), (0.5,0.5,0.5))\n",
    "])\n",
    "test_transform=transforms.Compose([\n",
    "    transforms.ToTensor(),\n",
    "    transforms.Normalize(mean=[0.5, 0.5, 0.5], std=[0.5, 0.5, 0.5])])"
   ]
  },
  {
   "cell_type": "markdown",
   "id": "fe917ec5",
   "metadata": {},
   "source": []
  },
  {
   "cell_type": "code",
   "execution_count": 6,
   "id": "df86add8-eea3-4ca0-abc6-185bbdd32de6",
   "metadata": {},
   "outputs": [
    {
     "name": "stdout",
     "output_type": "stream",
     "text": [
      "Loading\n",
      "Colored MNIST dataset already exists\n",
      "Colored MNIST dataset already exists\n",
      "Colored MNIST dataset already exists\n",
      "Colored MNIST dataset already exists\n",
      "Colored MNIST dataset already exists\n",
      "Size of train_dataset_1: 10000\n",
      "Size of test_dataset_2: 15000\n"
     ]
    }
   ],
   "source": [
    "print(\"Loading\")\n",
    "train_dataset1=ColoredMNIST(root='./data', env='train1', transform=train_transform)\n",
    "train_dataset2= ColoredMNIST(root='./data', env='train2', transform=train_transform)\n",
    "train_dataset3= ColoredMNIST(root='./data', env='train3', transform=train_transform)\n",
    "test_dataset1= ColoredMNIST(root='./data', env='test1', transform=test_transform)\n",
    "test_dataset2= ColoredMNIST(root='./data', env='test2', transform=test_transform)\n",
    "\n",
    "# 打印数据集大小，确认加载成功\n",
    "print(f\"Size of train_dataset_1: {len(train_dataset1)}\")\n",
    "print(f\"Size of test_dataset_2: {len(test_dataset2)}\")"
   ]
  },
  {
   "cell_type": "code",
   "execution_count": 7,
   "id": "f3cd0ae5-32ad-415c-b315-4b5f6934e3c7",
   "metadata": {},
   "outputs": [
    {
     "name": "stdout",
     "output_type": "stream",
     "text": [
      "torch.Size([3, 28, 28]) torch.Size([3, 28, 28])\n"
     ]
    }
   ],
   "source": [
    "\n",
    "see1=next(iter(train_dataset1))\n",
    "see2=next(iter(test_dataset1))\n",
    "print(see1[0].shape,see2[0].shape)"
   ]
  },
  {
   "cell_type": "code",
   "execution_count": 8,
   "id": "041ca2e0-60f6-42aa-99f0-f82ee9c8ca4e",
   "metadata": {},
   "outputs": [
    {
     "name": "stdout",
     "output_type": "stream",
     "text": [
      "Total training30000\n",
      "Test1 15000\n",
      "Test2 15000\n"
     ]
    }
   ],
   "source": [
    "from torch.utils.data import DataLoader,ConcatDataset\n",
    "#把所有训练集搞在一起\n",
    "all_train_dataset = ConcatDataset([train_dataset1, train_dataset2, train_dataset3])\n",
    "\n",
    "BATCH_SIZE = 128\n",
    "#dataloader\n",
    "my_train_loader = DataLoader(dataset=all_train_dataset, batch_size=BATCH_SIZE, shuffle=True)\n",
    "my_test_loader1 = DataLoader(dataset=test_dataset1, batch_size=BATCH_SIZE, shuffle=False)\n",
    "my_test_loader2 = DataLoader(dataset=test_dataset2, batch_size=BATCH_SIZE, shuffle=False)\n",
    "\n",
    "print(f\"Total training{len(all_train_dataset)}\")\n",
    "print(f\"Test1 {len(test_dataset1)}\")\n",
    "print(f\"Test2 {len(test_dataset2)}\")"
   ]
  },
  {
   "cell_type": "code",
   "execution_count": 9,
   "id": "d1e70251-fb6a-4f8c-9f43-ff4ff64188b1",
   "metadata": {},
   "outputs": [
    {
     "name": "stdout",
     "output_type": "stream",
     "text": [
      "Visualizing a batch from DataLoader:\n"
     ]
    },
    {
     "data": {
      "image/png": "[encoded data removed]",
      "text/plain": [
       "<Figure size 1500x500 with 1 Axes>"
      ]
     },
     "metadata": {},
     "output_type": "display_data"
    },
    {
     "data": {
      "image/png": "[encoded data removed]",
      "text/plain": [
       "<Figure size 1500x500 with 1 Axes>"
      ]
     },
     "metadata": {},
     "output_type": "display_data"
    },
    {
     "data": {
      "image/png": "[encoded data removed]",
      "text/plain": [
       "<Figure size 1500x500 with 1 Axes>"
      ]
     },
     "metadata": {},
     "output_type": "display_data"
    }
   ],
   "source": [
    "import torchvision\n",
    "import matplotlib.pyplot as plt\n",
    "import numpy as np\n",
    "\n",
    "def denormalize(tensor):\n",
    "    mean = torch.tensor([0.5, 0.5, 0.5])\n",
    "    std = torch.tensor([0.5, 0.5, 0.5])\n",
    "    tensor = tensor * std[:, None, None] + mean[:, None, None]\n",
    "    tensor = torch.clamp(tensor, 0, 1)\n",
    "    return tensor\n",
    "\n",
    "def show_batch(data_loader):\n",
    "    # 从数据加载器中获取一个批次的数据\n",
    "    images, labels = next(iter(data_loader))\n",
    "    images=images[:10]\n",
    "    labels=labels[:10]\n",
    "    #print(images,labels)\n",
    "    # 逆标准化\n",
    "    images = denormalize(images)\n",
    "    # 创建一个图像网格\n",
    "    # nrow 是每行显示的图片数量\n",
    "    grid = torchvision.utils.make_grid(images, nrow=5)\n",
    "\n",
    "    # 将 Tensor 转换为 NumPy 数组并调整维度顺序 (C, H, W) -> (H, W, C)\n",
    "    np_grid = grid.permute(1, 2, 0).numpy()\n",
    "    #return\n",
    "    # 显示图像\n",
    "    plt.figure(figsize=(15, 5))\n",
    "    plt.imshow(np_grid)\n",
    "    #plt.title(f'Batch Labels{labels[:5].tolist()}')\n",
    "    plt.axis('off')\n",
    "    plt.show()\n",
    "\n",
    "from torchvision.datasets import FakeData\n",
    "\n",
    "\n",
    "# 模拟\n",
    "\n",
    "\n",
    "print(\"Visualizing a batch from DataLoader:\")\n",
    "show_batch(my_train_loader)\n",
    "show_batch(my_test_loader1)\n",
    "show_batch(my_test_loader2)"
   ]
  },
  {
   "cell_type": "code",
   "execution_count": 10,
   "id": "4cc3c5f0-d8a9-41a5-9caf-f0bd7e6299a7",
   "metadata": {},
   "outputs": [],
   "source": [
    "#模型结构和前向传播\n",
    "class LeNet5(nn.Module):\n",
    "    def __init__(self, num_classes=2):\n",
    "        super(LeNet5, self).__init__()\n",
    "        self.features = nn.Sequential(\n",
    "            nn.Conv2d(3, 6, kernel_size=5, stride=1, padding=2),\n",
    "            nn.ReLU(),\n",
    "            nn.AvgPool2d(kernel_size=2, stride=2),\n",
    "            nn.Conv2d(6, 16, kernel_size=5, stride=1),\n",
    "            nn.ReLU(),\n",
    "            nn.AvgPool2d(kernel_size=2, stride=2)\n",
    "        )\n",
    "        \n",
    "        self.classifier = nn.Sequential(\n",
    "            nn.Linear(16 * 5 * 5, 120),\n",
    "            nn.ReLU(),\n",
    "            nn.Linear(120, 84),\n",
    "            nn.ReLU(),\n",
    "            nn.Linear(84, num_classes)\n",
    "        )\n",
    "    def forward(self, x):\n",
    "        x = self.features(x)\n",
    "        x = x.view(-1, 16 * 5 * 5) #展平操作\n",
    "        x_features = self.classifier[:-1](x)\n",
    "        output=self.classifier[-1](x_features)\n",
    "        return output"
   ]
  },
  {
   "cell_type": "code",
   "execution_count": 11,
   "id": "5e765b97-8fb6-4562-bc24-4ba7ca1ae7b7",
   "metadata": {},
   "outputs": [
    {
     "name": "stdout",
     "output_type": "stream",
     "text": [
      "Using device: cuda\n"
     ]
    }
   ],
   "source": [
    "my_device = torch.device(\"cuda\" if torch.cuda.is_available() else \"cpu\")\n",
    "print(f\"Using device: {my_device}\")"
   ]
  },
  {
   "cell_type": "code",
   "execution_count": 12,
   "id": "5e14bd97-7660-4010-a32e-c594ab075489",
   "metadata": {},
   "outputs": [],
   "source": [
    "my_model=LeNet5(num_classes=2).to(my_device)"
   ]
  },
  {
   "cell_type": "code",
   "execution_count": 13,
   "id": "49c9ab4f-8f3b-4125-9a07-6b13ed75f905",
   "metadata": {},
   "outputs": [],
   "source": [
    "#损失函数和优化器\n",
    "my_loss=nn.CrossEntropyLoss()\n",
    "my_optimizer=optim.Adam(my_model.parameters(), lr=0.001)\n"
   ]
  },
  {
   "cell_type": "code",
   "execution_count": 14,
   "id": "1adc1446-cf3e-45bc-b565-bddffd6c601f",
   "metadata": {},
   "outputs": [
    {
     "name": "stdout",
     "output_type": "stream",
     "text": [
      "\n",
      "Starting training\n",
      "Epoch [1/30], Train Loss: 0.4463, Train Acc: 75.88%, Test1 Acc: 93.91%, Test2 Acc: 87.36%\n"
     ]
    },
    {
     "ename": "KeyboardInterrupt",
     "evalue": "",
     "output_type": "error",
     "traceback": [
      "\u001b[1;31m---------------------------------------------------------------------------\u001b[0m",
      "\u001b[1;31mKeyboardInterrupt\u001b[0m                         Traceback (most recent call last)",
      "Cell \u001b[1;32mIn[14], line 66\u001b[0m\n\u001b[0;32m     63\u001b[0m     \u001b[38;5;28;01mreturn\u001b[39;00m history\n\u001b[0;32m     65\u001b[0m \u001b[38;5;66;03m# 调用时传入测试集\u001b[39;00m\n\u001b[1;32m---> 66\u001b[0m my_history \u001b[38;5;241m=\u001b[39m \u001b[43mtrain\u001b[49m\u001b[43m(\u001b[49m\u001b[43mmy_model\u001b[49m\u001b[43m,\u001b[49m\u001b[43m \u001b[49m\u001b[43mmy_train_loader\u001b[49m\u001b[43m,\u001b[49m\u001b[43m \u001b[49m\u001b[43mmy_loss\u001b[49m\u001b[43m,\u001b[49m\u001b[43m \u001b[49m\u001b[43mmy_optimizer\u001b[49m\u001b[43m,\u001b[49m\u001b[43m \u001b[49m\u001b[43mmy_device\u001b[49m\u001b[43m,\u001b[49m\n\u001b[0;32m     67\u001b[0m \u001b[43m                   \u001b[49m\u001b[43mmy_test_loader1\u001b[49m\u001b[43m,\u001b[49m\u001b[43m \u001b[49m\u001b[43mmy_test_loader2\u001b[49m\u001b[43m)\u001b[49m\n",
      "Cell \u001b[1;32mIn[14], line 30\u001b[0m, in \u001b[0;36mtrain\u001b[1;34m(model, train_loader, loss, optimizer, device, test_loader1, test_loader2)\u001b[0m\n\u001b[0;32m     28\u001b[0m running_loss \u001b[38;5;241m=\u001b[39m \u001b[38;5;241m0.0\u001b[39m\n\u001b[0;32m     29\u001b[0m total_train \u001b[38;5;241m=\u001b[39m correct_train \u001b[38;5;241m=\u001b[39m \u001b[38;5;241m0\u001b[39m\n\u001b[1;32m---> 30\u001b[0m \u001b[38;5;28;01mfor\u001b[39;00m images, labels \u001b[38;5;129;01min\u001b[39;00m train_loader:\n\u001b[0;32m     31\u001b[0m     images \u001b[38;5;241m=\u001b[39m images\u001b[38;5;241m.\u001b[39mto(device)\n\u001b[0;32m     32\u001b[0m     labels \u001b[38;5;241m=\u001b[39m labels\u001b[38;5;241m.\u001b[39mto(device)\n",
      "File \u001b[1;32md:\\anaconda\\envs\\test_gpu\\lib\\site-packages\\torch\\utils\\data\\dataloader.py:630\u001b[0m, in \u001b[0;36m_BaseDataLoaderIter.__next__\u001b[1;34m(self)\u001b[0m\n\u001b[0;32m    627\u001b[0m \u001b[38;5;28;01mif\u001b[39;00m \u001b[38;5;28mself\u001b[39m\u001b[38;5;241m.\u001b[39m_sampler_iter \u001b[38;5;129;01mis\u001b[39;00m \u001b[38;5;28;01mNone\u001b[39;00m:\n\u001b[0;32m    628\u001b[0m     \u001b[38;5;66;03m# TODO(https://github.com/pytorch/pytorch/issues/76750)\u001b[39;00m\n\u001b[0;32m    629\u001b[0m     \u001b[38;5;28mself\u001b[39m\u001b[38;5;241m.\u001b[39m_reset()  \u001b[38;5;66;03m# type: ignore[call-arg]\u001b[39;00m\n\u001b[1;32m--> 630\u001b[0m data \u001b[38;5;241m=\u001b[39m \u001b[38;5;28;43mself\u001b[39;49m\u001b[38;5;241;43m.\u001b[39;49m\u001b[43m_next_data\u001b[49m\u001b[43m(\u001b[49m\u001b[43m)\u001b[49m\n\u001b[0;32m    631\u001b[0m \u001b[38;5;28mself\u001b[39m\u001b[38;5;241m.\u001b[39m_num_yielded \u001b[38;5;241m+\u001b[39m\u001b[38;5;241m=\u001b[39m \u001b[38;5;241m1\u001b[39m\n\u001b[0;32m    632\u001b[0m \u001b[38;5;28;01mif\u001b[39;00m \u001b[38;5;28mself\u001b[39m\u001b[38;5;241m.\u001b[39m_dataset_kind \u001b[38;5;241m==\u001b[39m _DatasetKind\u001b[38;5;241m.\u001b[39mIterable \u001b[38;5;129;01mand\u001b[39;00m \\\n\u001b[0;32m    633\u001b[0m         \u001b[38;5;28mself\u001b[39m\u001b[38;5;241m.\u001b[39m_IterableDataset_len_called \u001b[38;5;129;01mis\u001b[39;00m \u001b[38;5;129;01mnot\u001b[39;00m \u001b[38;5;28;01mNone\u001b[39;00m \u001b[38;5;129;01mand\u001b[39;00m \\\n\u001b[0;32m    634\u001b[0m         \u001b[38;5;28mself\u001b[39m\u001b[38;5;241m.\u001b[39m_num_yielded \u001b[38;5;241m>\u001b[39m \u001b[38;5;28mself\u001b[39m\u001b[38;5;241m.\u001b[39m_IterableDataset_len_called:\n",
      "File \u001b[1;32md:\\anaconda\\envs\\test_gpu\\lib\\site-packages\\torch\\utils\\data\\dataloader.py:673\u001b[0m, in \u001b[0;36m_SingleProcessDataLoaderIter._next_data\u001b[1;34m(self)\u001b[0m\n\u001b[0;32m    671\u001b[0m \u001b[38;5;28;01mdef\u001b[39;00m\u001b[38;5;250m \u001b[39m\u001b[38;5;21m_next_data\u001b[39m(\u001b[38;5;28mself\u001b[39m):\n\u001b[0;32m    672\u001b[0m     index \u001b[38;5;241m=\u001b[39m \u001b[38;5;28mself\u001b[39m\u001b[38;5;241m.\u001b[39m_next_index()  \u001b[38;5;66;03m# may raise StopIteration\u001b[39;00m\n\u001b[1;32m--> 673\u001b[0m     data \u001b[38;5;241m=\u001b[39m \u001b[38;5;28;43mself\u001b[39;49m\u001b[38;5;241;43m.\u001b[39;49m\u001b[43m_dataset_fetcher\u001b[49m\u001b[38;5;241;43m.\u001b[39;49m\u001b[43mfetch\u001b[49m\u001b[43m(\u001b[49m\u001b[43mindex\u001b[49m\u001b[43m)\u001b[49m  \u001b[38;5;66;03m# may raise StopIteration\u001b[39;00m\n\u001b[0;32m    674\u001b[0m     \u001b[38;5;28;01mif\u001b[39;00m \u001b[38;5;28mself\u001b[39m\u001b[38;5;241m.\u001b[39m_pin_memory:\n\u001b[0;32m    675\u001b[0m         data \u001b[38;5;241m=\u001b[39m _utils\u001b[38;5;241m.\u001b[39mpin_memory\u001b[38;5;241m.\u001b[39mpin_memory(data, \u001b[38;5;28mself\u001b[39m\u001b[38;5;241m.\u001b[39m_pin_memory_device)\n",
      "File \u001b[1;32md:\\anaconda\\envs\\test_gpu\\lib\\site-packages\\torch\\utils\\data\\_utils\\fetch.py:52\u001b[0m, in \u001b[0;36m_MapDatasetFetcher.fetch\u001b[1;34m(self, possibly_batched_index)\u001b[0m\n\u001b[0;32m     50\u001b[0m         data \u001b[38;5;241m=\u001b[39m \u001b[38;5;28mself\u001b[39m\u001b[38;5;241m.\u001b[39mdataset\u001b[38;5;241m.\u001b[39m__getitems__(possibly_batched_index)\n\u001b[0;32m     51\u001b[0m     \u001b[38;5;28;01melse\u001b[39;00m:\n\u001b[1;32m---> 52\u001b[0m         data \u001b[38;5;241m=\u001b[39m [\u001b[38;5;28mself\u001b[39m\u001b[38;5;241m.\u001b[39mdataset[idx] \u001b[38;5;28;01mfor\u001b[39;00m idx \u001b[38;5;129;01min\u001b[39;00m possibly_batched_index]\n\u001b[0;32m     53\u001b[0m \u001b[38;5;28;01melse\u001b[39;00m:\n\u001b[0;32m     54\u001b[0m     data \u001b[38;5;241m=\u001b[39m \u001b[38;5;28mself\u001b[39m\u001b[38;5;241m.\u001b[39mdataset[possibly_batched_index]\n",
      "File \u001b[1;32md:\\anaconda\\envs\\test_gpu\\lib\\site-packages\\torch\\utils\\data\\_utils\\fetch.py:52\u001b[0m, in \u001b[0;36m<listcomp>\u001b[1;34m(.0)\u001b[0m\n\u001b[0;32m     50\u001b[0m         data \u001b[38;5;241m=\u001b[39m \u001b[38;5;28mself\u001b[39m\u001b[38;5;241m.\u001b[39mdataset\u001b[38;5;241m.\u001b[39m__getitems__(possibly_batched_index)\n\u001b[0;32m     51\u001b[0m     \u001b[38;5;28;01melse\u001b[39;00m:\n\u001b[1;32m---> 52\u001b[0m         data \u001b[38;5;241m=\u001b[39m [\u001b[38;5;28;43mself\u001b[39;49m\u001b[38;5;241;43m.\u001b[39;49m\u001b[43mdataset\u001b[49m\u001b[43m[\u001b[49m\u001b[43midx\u001b[49m\u001b[43m]\u001b[49m \u001b[38;5;28;01mfor\u001b[39;00m idx \u001b[38;5;129;01min\u001b[39;00m possibly_batched_index]\n\u001b[0;32m     53\u001b[0m \u001b[38;5;28;01melse\u001b[39;00m:\n\u001b[0;32m     54\u001b[0m     data \u001b[38;5;241m=\u001b[39m \u001b[38;5;28mself\u001b[39m\u001b[38;5;241m.\u001b[39mdataset[possibly_batched_index]\n",
      "File \u001b[1;32md:\\anaconda\\envs\\test_gpu\\lib\\site-packages\\torch\\utils\\data\\dataset.py:350\u001b[0m, in \u001b[0;36mConcatDataset.__getitem__\u001b[1;34m(self, idx)\u001b[0m\n\u001b[0;32m    348\u001b[0m \u001b[38;5;28;01melse\u001b[39;00m:\n\u001b[0;32m    349\u001b[0m     sample_idx \u001b[38;5;241m=\u001b[39m idx \u001b[38;5;241m-\u001b[39m \u001b[38;5;28mself\u001b[39m\u001b[38;5;241m.\u001b[39mcumulative_sizes[dataset_idx \u001b[38;5;241m-\u001b[39m \u001b[38;5;241m1\u001b[39m]\n\u001b[1;32m--> 350\u001b[0m \u001b[38;5;28;01mreturn\u001b[39;00m \u001b[38;5;28;43mself\u001b[39;49m\u001b[38;5;241;43m.\u001b[39;49m\u001b[43mdatasets\u001b[49m\u001b[43m[\u001b[49m\u001b[43mdataset_idx\u001b[49m\u001b[43m]\u001b[49m\u001b[43m[\u001b[49m\u001b[43msample_idx\u001b[49m\u001b[43m]\u001b[49m\n",
      "Cell \u001b[1;32mIn[3], line 68\u001b[0m, in \u001b[0;36mColoredMNIST.__getitem__\u001b[1;34m(self, index)\u001b[0m\n\u001b[0;32m     65\u001b[0m img, target \u001b[38;5;241m=\u001b[39m \u001b[38;5;28mself\u001b[39m\u001b[38;5;241m.\u001b[39mdata_label_tuples[index]\n\u001b[0;32m     67\u001b[0m \u001b[38;5;28;01mif\u001b[39;00m \u001b[38;5;28mself\u001b[39m\u001b[38;5;241m.\u001b[39mtransform \u001b[38;5;129;01mis\u001b[39;00m \u001b[38;5;129;01mnot\u001b[39;00m \u001b[38;5;28;01mNone\u001b[39;00m:\n\u001b[1;32m---> 68\u001b[0m     img \u001b[38;5;241m=\u001b[39m \u001b[38;5;28;43mself\u001b[39;49m\u001b[38;5;241;43m.\u001b[39;49m\u001b[43mtransform\u001b[49m\u001b[43m(\u001b[49m\u001b[43mimg\u001b[49m\u001b[43m)\u001b[49m\n\u001b[0;32m     70\u001b[0m \u001b[38;5;28;01mif\u001b[39;00m \u001b[38;5;28mself\u001b[39m\u001b[38;5;241m.\u001b[39mtarget_transform \u001b[38;5;129;01mis\u001b[39;00m \u001b[38;5;129;01mnot\u001b[39;00m \u001b[38;5;28;01mNone\u001b[39;00m:\n\u001b[0;32m     71\u001b[0m     target \u001b[38;5;241m=\u001b[39m \u001b[38;5;28mself\u001b[39m\u001b[38;5;241m.\u001b[39mtarget_transform(target)\n",
      "File \u001b[1;32md:\\anaconda\\envs\\test_gpu\\lib\\site-packages\\torchvision\\transforms\\transforms.py:95\u001b[0m, in \u001b[0;36mCompose.__call__\u001b[1;34m(self, img)\u001b[0m\n\u001b[0;32m     93\u001b[0m \u001b[38;5;28;01mdef\u001b[39;00m\u001b[38;5;250m \u001b[39m\u001b[38;5;21m__call__\u001b[39m(\u001b[38;5;28mself\u001b[39m, img):\n\u001b[0;32m     94\u001b[0m     \u001b[38;5;28;01mfor\u001b[39;00m t \u001b[38;5;129;01min\u001b[39;00m \u001b[38;5;28mself\u001b[39m\u001b[38;5;241m.\u001b[39mtransforms:\n\u001b[1;32m---> 95\u001b[0m         img \u001b[38;5;241m=\u001b[39m \u001b[43mt\u001b[49m\u001b[43m(\u001b[49m\u001b[43mimg\u001b[49m\u001b[43m)\u001b[49m\n\u001b[0;32m     96\u001b[0m     \u001b[38;5;28;01mreturn\u001b[39;00m img\n",
      "File \u001b[1;32md:\\anaconda\\envs\\test_gpu\\lib\\site-packages\\torch\\nn\\modules\\module.py:1553\u001b[0m, in \u001b[0;36mModule._wrapped_call_impl\u001b[1;34m(self, *args, **kwargs)\u001b[0m\n\u001b[0;32m   1551\u001b[0m     \u001b[38;5;28;01mreturn\u001b[39;00m \u001b[38;5;28mself\u001b[39m\u001b[38;5;241m.\u001b[39m_compiled_call_impl(\u001b[38;5;241m*\u001b[39margs, \u001b[38;5;241m*\u001b[39m\u001b[38;5;241m*\u001b[39mkwargs)  \u001b[38;5;66;03m# type: ignore[misc]\u001b[39;00m\n\u001b[0;32m   1552\u001b[0m \u001b[38;5;28;01melse\u001b[39;00m:\n\u001b[1;32m-> 1553\u001b[0m     \u001b[38;5;28;01mreturn\u001b[39;00m \u001b[38;5;28;43mself\u001b[39;49m\u001b[38;5;241;43m.\u001b[39;49m\u001b[43m_call_impl\u001b[49m\u001b[43m(\u001b[49m\u001b[38;5;241;43m*\u001b[39;49m\u001b[43margs\u001b[49m\u001b[43m,\u001b[49m\u001b[43m \u001b[49m\u001b[38;5;241;43m*\u001b[39;49m\u001b[38;5;241;43m*\u001b[39;49m\u001b[43mkwargs\u001b[49m\u001b[43m)\u001b[49m\n",
      "File \u001b[1;32md:\\anaconda\\envs\\test_gpu\\lib\\site-packages\\torch\\nn\\modules\\module.py:1562\u001b[0m, in \u001b[0;36mModule._call_impl\u001b[1;34m(self, *args, **kwargs)\u001b[0m\n\u001b[0;32m   1557\u001b[0m \u001b[38;5;66;03m# If we don't have any hooks, we want to skip the rest of the logic in\u001b[39;00m\n\u001b[0;32m   1558\u001b[0m \u001b[38;5;66;03m# this function, and just call forward.\u001b[39;00m\n\u001b[0;32m   1559\u001b[0m \u001b[38;5;28;01mif\u001b[39;00m \u001b[38;5;129;01mnot\u001b[39;00m (\u001b[38;5;28mself\u001b[39m\u001b[38;5;241m.\u001b[39m_backward_hooks \u001b[38;5;129;01mor\u001b[39;00m \u001b[38;5;28mself\u001b[39m\u001b[38;5;241m.\u001b[39m_backward_pre_hooks \u001b[38;5;129;01mor\u001b[39;00m \u001b[38;5;28mself\u001b[39m\u001b[38;5;241m.\u001b[39m_forward_hooks \u001b[38;5;129;01mor\u001b[39;00m \u001b[38;5;28mself\u001b[39m\u001b[38;5;241m.\u001b[39m_forward_pre_hooks\n\u001b[0;32m   1560\u001b[0m         \u001b[38;5;129;01mor\u001b[39;00m _global_backward_pre_hooks \u001b[38;5;129;01mor\u001b[39;00m _global_backward_hooks\n\u001b[0;32m   1561\u001b[0m         \u001b[38;5;129;01mor\u001b[39;00m _global_forward_hooks \u001b[38;5;129;01mor\u001b[39;00m _global_forward_pre_hooks):\n\u001b[1;32m-> 1562\u001b[0m     \u001b[38;5;28;01mreturn\u001b[39;00m \u001b[43mforward_call\u001b[49m\u001b[43m(\u001b[49m\u001b[38;5;241;43m*\u001b[39;49m\u001b[43margs\u001b[49m\u001b[43m,\u001b[49m\u001b[43m \u001b[49m\u001b[38;5;241;43m*\u001b[39;49m\u001b[38;5;241;43m*\u001b[39;49m\u001b[43mkwargs\u001b[49m\u001b[43m)\u001b[49m\n\u001b[0;32m   1564\u001b[0m \u001b[38;5;28;01mtry\u001b[39;00m:\n\u001b[0;32m   1565\u001b[0m     result \u001b[38;5;241m=\u001b[39m \u001b[38;5;28;01mNone\u001b[39;00m\n",
      "Cell \u001b[1;32mIn[4], line 15\u001b[0m, in \u001b[0;36mRandomColoring.forward\u001b[1;34m(self, tensor_image)\u001b[0m\n\u001b[0;32m     10\u001b[0m \u001b[38;5;28;01mdef\u001b[39;00m\u001b[38;5;250m \u001b[39m\u001b[38;5;21mforward\u001b[39m(\u001b[38;5;28mself\u001b[39m, tensor_image: torch\u001b[38;5;241m.\u001b[39mTensor) \u001b[38;5;241m-\u001b[39m\u001b[38;5;241m>\u001b[39m torch\u001b[38;5;241m.\u001b[39mTensor:\n\u001b[0;32m     11\u001b[0m     \u001b[38;5;66;03m#这个变换要在ToTensor之后做，注意：ToTensor会把颜色的三通道放在第一个维度！！\u001b[39;00m\n\u001b[0;32m     12\u001b[0m    \n\u001b[0;32m     13\u001b[0m     \u001b[38;5;66;03m#识别前景和背景，黑色背景中有值的就是数字\u001b[39;00m\n\u001b[0;32m     14\u001b[0m     \u001b[38;5;66;03m#从通道检查，如果该位置任意个通道有值，那它就是数字所在的位置，这将返回一个28*28的掩码数组，表示对应位置有没有数字\u001b[39;00m\n\u001b[1;32m---> 15\u001b[0m     foreground_mask\u001b[38;5;241m=\u001b[39m\u001b[43mtorch\u001b[49m\u001b[38;5;241;43m.\u001b[39;49m\u001b[43many\u001b[49m\u001b[43m(\u001b[49m\u001b[43mtensor_image\u001b[49m\u001b[43m \u001b[49m\u001b[38;5;241;43m>\u001b[39;49m\u001b[43m \u001b[49m\u001b[38;5;241;43m0\u001b[39;49m\u001b[43m,\u001b[49m\u001b[43m \u001b[49m\u001b[43mdim\u001b[49m\u001b[38;5;241;43m=\u001b[39;49m\u001b[38;5;241;43m0\u001b[39;49m\u001b[43m)\u001b[49m\n\u001b[0;32m     16\u001b[0m     background_mask\u001b[38;5;241m=\u001b[39m\u001b[38;5;241m~\u001b[39mforeground_mask\n\u001b[0;32m     17\u001b[0m     \u001b[38;5;66;03m#print(foreground_mask)\u001b[39;00m\n\u001b[0;32m     18\u001b[0m \n\u001b[0;32m     19\u001b[0m     \u001b[38;5;66;03m#生成随机的前景色和背景色\u001b[39;00m\n",
      "\u001b[1;31mKeyboardInterrupt\u001b[0m: "
     ]
    }
   ],
   "source": [
    "NUM_EPOCHS = 30  # 可改为任意轮数\n",
    "\n",
    "def test_model(model, test_loader, device):\n",
    "    model.eval()\n",
    "    correct = 0\n",
    "    total = 0\n",
    "    with torch.no_grad():\n",
    "        for images, labels in test_loader:\n",
    "            images = images.to(device)\n",
    "            labels = labels.to(device)\n",
    "            outputs = model(images)\n",
    "            _, predicted = torch.max(outputs.data, 1)\n",
    "            total += labels.size(0)\n",
    "            correct += (predicted == labels).sum().item()\n",
    "    accuracy = 100 * correct / total\n",
    "    return accuracy\n",
    "\n",
    "def train(model, train_loader, loss, optimizer, device, test_loader1, test_loader2):\n",
    "    print(\"\\nStarting training\")\n",
    "    history = {\n",
    "        'train_loss': [],\n",
    "        'train_acc': [],\n",
    "        'test1_acc': [],\n",
    "        'test2_acc': []\n",
    "    }\n",
    "    for epoch in range(NUM_EPOCHS):\n",
    "        model.train()\n",
    "        running_loss = 0.0\n",
    "        total_train = correct_train = 0\n",
    "        for images, labels in train_loader:\n",
    "            images = images.to(device)\n",
    "            labels = labels.to(device)\n",
    "            outputs = model(images)\n",
    "            loss1 = loss(outputs, labels)\n",
    "            optimizer.zero_grad()\n",
    "            loss1.backward()\n",
    "            optimizer.step()\n",
    "            running_loss += loss1.item()\n",
    "            _, predicted = torch.max(outputs.data, 1)\n",
    "            total_train += labels.size(0)\n",
    "            correct_train += (predicted == labels).sum().item()\n",
    "        \n",
    "        avg_train_loss = running_loss / len(train_loader)\n",
    "        train_acc = 100 * correct_train / total_train\n",
    "\n",
    "        # 测试两个测试集\n",
    "        test1_acc = test_model(model, test_loader1, device)\n",
    "        test2_acc = test_model(model, test_loader2, device)\n",
    "\n",
    "        # 存储历史记录\n",
    "        history['train_loss'].append(avg_train_loss)\n",
    "        history['train_acc'].append(train_acc)\n",
    "        history['test1_acc'].append(test1_acc)\n",
    "        history['test2_acc'].append(test2_acc)\n",
    "\n",
    "        print(f\"Epoch [{epoch+1}/{NUM_EPOCHS}], \"\n",
    "              f\"Train Loss: {avg_train_loss:.4f}, \"\n",
    "              f\"Train Acc: {train_acc:.2f}%, \"\n",
    "              f\"Test1 Acc: {test1_acc:.2f}%, \"\n",
    "              f\"Test2 Acc: {test2_acc:.2f}%\")\n",
    "\n",
    "    print(\"Finished\")\n",
    "    return history\n",
    "\n",
    "# 调用时传入测试集\n",
    "my_history = train(my_model, my_train_loader, my_loss, my_optimizer, my_device,\n",
    "                   my_test_loader1, my_test_loader2)\n"
   ]
  },
  {
   "cell_type": "code",
   "execution_count": null,
   "id": "72a7e349-d3ad-4948-954f-67d6568d72f4",
   "metadata": {},
   "outputs": [
    {
     "data": {
      "image/png": "[encoded data removed]",
      "text/plain": [
       "<Figure size 1200x500 with 2 Axes>"
      ]
     },
     "metadata": {},
     "output_type": "display_data"
    }
   ],
   "source": [
    "def plot_history(history):\n",
    "    import matplotlib.pyplot as plt\n",
    "    \n",
    "    epochs = range(1, len(history['train_loss']) + 1)\n",
    "\n",
    "    plt.figure(figsize=(12,5))\n",
    "\n",
    "    # 主坐标轴：Loss\n",
    "    ax1 = plt.gca()\n",
    "    ax1.plot(epochs, history['train_loss'], label='Train Loss', color='blue')\n",
    "    ax1.set_xlabel('Epoch', fontsize=14)\n",
    "    ax1.set_ylabel('Loss', color='blue', fontsize=14)\n",
    "    ax1.tick_params(axis='y', labelcolor='blue', labelsize=12)\n",
    "    ax1.tick_params(axis='x', labelsize=12)\n",
    "    ax1.set_xlim(left=0)\n",
    "    ax1.set_ylim(bottom=0)\n",
    "    ax1.set_xticks(range(0, len(epochs)+1, 2))\n",
    "    ax1.grid(True)\n",
    "\n",
    "    # 副坐标轴：Accuracy\n",
    "    ax2 = ax1.twinx()\n",
    "    ax2.plot(epochs, history['train_acc'], label='Train Acc', color='green')\n",
    "    ax2.plot(epochs, history['test1_acc'], label='Test1 Acc', color='purple')\n",
    "    ax2.plot(epochs, history['test2_acc'], label='Test2 Acc', color='red')\n",
    "    ax2.set_ylabel('Accuracy (%)', color='green', fontsize=14)\n",
    "    ax2.tick_params(axis='y', labelcolor='green', labelsize=12)\n",
    "    ax2.set_ylim(bottom=60)\n",
    "\n",
    "    # 图例整合\n",
    "    lines1, labels1 = ax1.get_legend_handles_labels()\n",
    "    lines2, labels2 = ax2.get_legend_handles_labels()\n",
    "    ax1.legend(lines1 + lines2, labels1 + labels2, loc='center right', fontsize=12)\n",
    "\n",
    "    #plt.title('Training Loss and Accuracy', fontsize=16)\n",
    "    plt.show()\n",
    "\n",
    "\n",
    "plot_history(my_history)\n"
   ]
  },
  {
   "cell_type": "code",
   "execution_count": null,
   "id": "2c173840-a4eb-49f0-9fb3-17247ab9c4bf",
   "metadata": {},
   "outputs": [
    {
     "data": {
      "text/plain": [
       "97.44"
      ]
     },
     "execution_count": 56,
     "metadata": {},
     "output_type": "execute_result"
    }
   ],
   "source": [
    "#测试集准确率\n",
    "test_model(my_model,my_test_loader1,my_device)\n",
    "test_model(my_model,my_test_loader2,my_device)"
   ]
  },
  {
   "cell_type": "code",
   "execution_count": null,
   "id": "baed3ef4",
   "metadata": {},
   "outputs": [],
   "source": [
    "from pytorch_grad_cam import GradCAM\n",
    "from pytorch_grad_cam.utils.model_targets import ClassifierOutputTarget\n",
    "from pytorch_grad_cam.utils.image import show_cam_on_image\n",
    "import torch\n",
    "from torchvision import transforms\n",
    "import numpy as np"
   ]
  },
  {
   "cell_type": "code",
   "execution_count": null,
   "id": "54a5ce7f",
   "metadata": {},
   "outputs": [
    {
     "data": {
      "image/png": "[encoded data removed]",
      "text/plain": [
       "<Figure size 1500x500 with 1 Axes>"
      ]
     },
     "metadata": {},
     "output_type": "display_data"
    },
    {
     "data": {
      "image/png": "[encoded data removed]",
      "text/plain": [
       "<Figure size 640x480 with 1 Axes>"
      ]
     },
     "metadata": {},
     "output_type": "display_data"
    }
   ],
   "source": [
    "my_model.eval()\n",
    "\n",
    "# 逆标准化函数，用于显示图片\n",
    "def denormalize(tensor, mean=[0.5, 0.5, 0.5], std=[0.5, 0.5, 0.5]):\n",
    "    mean = torch.tensor(mean)\n",
    "    std = torch.tensor(std)\n",
    "    tensor = tensor.clone().permute(1, 2, 0) # C, H, W -> H, W, C\n",
    "    tensor = tensor * std + mean\n",
    "    tensor = torch.clamp(tensor, 0, 1)\n",
    "    return tensor.numpy()\n",
    "\n",
    "def visualize_grad_cam(model, image_tensor, original_image_np):\n",
    "    # 选择一个目标层 (通常是最后一个卷积层)\n",
    "    target_layers = [model.features[3]]\n",
    "\n",
    "    #创建Grad-CAM对象\n",
    "    cam = GradCAM(model=model, target_layers=target_layers)\n",
    "    \n",
    "    #定义目标类别 (我们想看模型为什么会把它分成某一类)\n",
    "    #如果不指定，默认是得分最高的类别\n",
    "    #targets = [ClassifierOutputTarget(class_index)] \n",
    "    targets = None \n",
    "\n",
    "    #生成CAM\n",
    "    grayscale_cam = cam(input_tensor=image_tensor.unsqueeze(0), targets=targets)\n",
    "    grayscale_cam = grayscale_cam[0, :] # 取第一个结果\n",
    "\n",
    "    #将CAM叠加到原图上\n",
    "    visualization = show_cam_on_image(original_image_np, grayscale_cam, use_rgb=True)\n",
    "    \n",
    "    #绘图\n",
    "    plt.figure(figsize=(15, 5))\n",
    "    plt.imshow(original_image_np)\n",
    "    plt.axis('off')\n",
    "    plt.show()\n",
    "    \n",
    "    plt.imshow(visualization)\n",
    "    plt.axis('off')\n",
    "    plt.show()\n",
    "    \n",
    "    \n",
    "sample=next(iter(test_dataset2)) \n",
    "ood_image_tensor=sample[0]\n",
    "original_image_np = denormalize(ood_image_tensor)\n",
    "visualize_grad_cam(my_model, ood_image_tensor, original_image_np)"
   ]
  }
 ],
 "metadata": {
  "kernelspec": {
   "display_name": "EST1601",
   "language": "python",
   "name": "est1601"
  },
  "language_info": {
   "codemirror_mode": {
    "name": "ipython",
    "version": 3
   },
   "file_extension": ".py",
   "mimetype": "text/x-python",
   "name": "python",
   "nbconvert_exporter": "python",
   "pygments_lexer": "ipython3",
   "version": "3.11.9"
  }
 },
 "nbformat": 4,
 "nbformat_minor": 5
}
