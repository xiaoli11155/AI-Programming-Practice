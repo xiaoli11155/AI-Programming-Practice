{
 "cells": [
  {
   "cell_type": "code",
   "execution_count": 2,
   "id": "629d6ac3",
   "metadata": {},
   "outputs": [],
   "source": [
    "import os\n",
    "\n",
    "import numpy as np\n",
    "from PIL import Image\n",
    "\n",
    "import matplotlib.pyplot as plt\n",
    "\n",
    "import torch\n",
    "import torch.nn as nn\n",
    "import torch.nn.functional as F\n",
    "import torch.optim as optim\n",
    "from torch.autograd import grad\n",
    "from torchvision import transforms\n",
    "from torchvision import datasets\n",
    "import torchvision.datasets.utils as dataset_utils"
   ]
  },
  {
   "cell_type": "code",
   "execution_count": 3,
   "id": "cfc1bb36",
   "metadata": {},
   "outputs": [],
   "source": [
    "def color_grayscale_arr(arr, forground_color, background_color):\n",
    "    \"\"\"Converts grayscale image\"\"\"\n",
    "    assert arr.ndim == 2\n",
    "    dtype = arr.dtype\n",
    "    h, w = arr.shape\n",
    "    arr = np.reshape(arr, [h, w, 1])\n",
    "    if background_color == \"black\":\n",
    "        if forground_color == \"red\":\n",
    "            arr = np.concatenate([arr,\n",
    "                              np.zeros((h, w, 2), dtype=dtype)], axis=2)\n",
    "        elif forground_color == \"green\":\n",
    "            arr = np.concatenate([np.zeros((h, w, 1), dtype=dtype),\n",
    "                              arr,\n",
    "                              np.zeros((h, w, 1), dtype=dtype)], axis=2)\n",
    "        elif forground_color == \"white\":\n",
    "            arr = np.concatenate([arr, arr, arr], axis=2)\n",
    "    else:\n",
    "        if forground_color == \"yellow\":\n",
    "            arr = np.concatenate([arr, arr, np.zeros((h, w, 1), dtype=dtype)], axis=2)\n",
    "        else:\n",
    "            arr = np.concatenate([np.zeros((h, w, 2), dtype=dtype), arr], axis=2)\n",
    "\n",
    "        c = [255, 255, 255]\n",
    "        arr[:, :, 0] = (255 - arr[:, :, 0]) / 255 * c[0]\n",
    "        arr[:, :, 1] = (255 - arr[:, :, 1]) / 255 * c[1]\n",
    "        arr[:, :, 2] = (255 - arr[:, :, 2]) / 255 * c[2]\n",
    "    arr = arr.astype(np.uint8) \n",
    "\n",
    "\n",
    "    return arr\n",
    "\n",
    "\n",
    "class ColoredMNIST(datasets.VisionDataset):\n",
    "\n",
    "    def __init__(self, root='./data', env='train1', transform=None, target_transform=None):\n",
    "        super(ColoredMNIST, self).__init__(root, transform=transform,\n",
    "                                           target_transform=target_transform)\n",
    "\n",
    "        self.prepare_colored_mnist()\n",
    "        if env in ['train1', 'train2', 'train3', 'test1', 'test2']:\n",
    "            self.data_label_tuples = torch.load(os.path.join(self.root, 'ColoredMNIST', env) + '.pt')\n",
    "        elif env == 'all_train':\n",
    "            self.data_label_tuples = torch.load(os.path.join(self.root, 'ColoredMNIST', 'train1.pt')) + \\\n",
    "                                     torch.load(os.path.join(self.root, 'ColoredMNIST', 'train2.pt')) + \\\n",
    "                                     torch.load(os.path.join(self.root, 'ColoredMNIST', 'train3.pt'))\n",
    "        else:\n",
    "            raise RuntimeError(f'{env} env unknown. Valid envs are train1, train2, train3, test1, test2, and all_train')\n",
    "\n",
    "    def __getitem__(self, index):\n",
    "        \"\"\"\n",
    "    Args:\n",
    "        index (int): Index\n",
    "\n",
    "    Returns:\n",
    "        tuple: (image, target) where target is index of the target class.\n",
    "    \"\"\"\n",
    "        img, target = self.data_label_tuples[index]\n",
    "\n",
    "        if self.transform is not None:\n",
    "            img = self.transform(img)\n",
    "\n",
    "        if self.target_transform is not None:\n",
    "            target = self.target_transform(target)\n",
    "\n",
    "        return img, target\n",
    "\n",
    "    def __len__(self):\n",
    "        return len(self.data_label_tuples)\n",
    "\n",
    "    def prepare_colored_mnist(self):\n",
    "        colored_mnist_dir = os.path.join(self.root, 'ColoredMNIST')\n",
    "        if os.path.exists(os.path.join(colored_mnist_dir, 'train1.pt')) \\\n",
    "                and os.path.exists(os.path.join(colored_mnist_dir, 'train2.pt')) \\\n",
    "                and os.path.exists(os.path.join(colored_mnist_dir, 'train3.pt')) \\\n",
    "                and os.path.exists(os.path.join(colored_mnist_dir, 'test1.pt')) \\\n",
    "                and os.path.exists(os.path.join(colored_mnist_dir, 'test2.pt')):\n",
    "            print('Colored MNIST dataset already exists')\n",
    "            return\n",
    "\n",
    "        print('Preparing Colored MNIST')\n",
    "        train_mnist = datasets.mnist.MNIST(self.root, train=True, download=True)\n",
    "\n",
    "        train1_set = []\n",
    "        train2_set = []\n",
    "        train3_set = []\n",
    "        test1_set, test2_set = [], []\n",
    "        for idx, (im, label) in enumerate(train_mnist):\n",
    "            if idx % 10000 == 0:\n",
    "                print(f'Converting image {idx}/{len(train_mnist)}')\n",
    "            im_array = np.array(im)\n",
    "            \n",
    "            # Assign a binary label y to the image based on the digit\n",
    "            binary_label = 0 if label < 5 else 1\n",
    "\n",
    "            # Color the image according to its environment label\n",
    "\n",
    "            if idx < 10000:\n",
    "                colored_arr = color_grayscale_arr(im_array, forground_color = \"red\", background_color = \"black\")\n",
    "                train1_set.append((Image.fromarray(colored_arr), binary_label))\n",
    "            elif idx < 20000:\n",
    "                colored_arr = color_grayscale_arr(im_array, forground_color = \"green\", background_color = \"black\")\n",
    "                train2_set.append((Image.fromarray(colored_arr), binary_label))\n",
    "            elif idx < 30000:\n",
    "                colored_arr = color_grayscale_arr(im_array, forground_color = \"white\", background_color = \"black\")\n",
    "                train3_set.append((Image.fromarray(colored_arr), binary_label))\n",
    "            elif idx < 45000:\n",
    "                colored_arr = color_grayscale_arr(im_array, forground_color = \"green\", background_color = \"black\")\n",
    "                test1_set.append((Image.fromarray(colored_arr), binary_label))\n",
    "            else:\n",
    "                colored_arr = color_grayscale_arr(im_array, forground_color = \"red\", background_color = \"black\")\n",
    "                test2_set.append((Image.fromarray(colored_arr), binary_label))\n",
    "                \n",
    "            # Image.fromarray(colored_arr).save('./data/sample/{}.png'.format(idx))\n",
    "\n",
    "        if not os.path.exists(colored_mnist_dir):\n",
    "            os.makedirs(colored_mnist_dir)\n",
    "        torch.save(train1_set, os.path.join(colored_mnist_dir, 'train1.pt'))\n",
    "        torch.save(train2_set, os.path.join(colored_mnist_dir, 'train2.pt'))\n",
    "        torch.save(train3_set, os.path.join(colored_mnist_dir, 'train3.pt'))\n",
    "        torch.save(test1_set, os.path.join(colored_mnist_dir, 'test1.pt'))\n",
    "        torch.save(test2_set, os.path.join(colored_mnist_dir, 'test2.pt'))"
   ]
  },
  {
   "cell_type": "code",
   "execution_count": 3,
   "id": "67aca898",
   "metadata": {},
   "outputs": [
    {
     "name": "stdout",
     "output_type": "stream",
     "text": [
      "Loading\n",
      "Colored MNIST dataset already exists\n"
     ]
    },
    {
     "name": "stderr",
     "output_type": "stream",
     "text": [
      "/tmp/ipykernel_2875/4197987548.py:41: FutureWarning: You are using `torch.load` with `weights_only=False` (the current default value), which uses the default pickle module implicitly. It is possible to construct malicious pickle data which will execute arbitrary code during unpickling (See https://github.com/pytorch/pytorch/blob/main/SECURITY.md#untrusted-models for more details). In a future release, the default value for `weights_only` will be flipped to `True`. This limits the functions that could be executed during unpickling. Arbitrary objects will no longer be allowed to be loaded via this mode unless they are explicitly allowlisted by the user via `torch.serialization.add_safe_globals`. We recommend you start setting `weights_only=True` for any use case where you don't have full control of the loaded file. Please open an issue on GitHub for any issues related to this experimental feature.\n",
      "  self.data_label_tuples = torch.load(os.path.join(self.root, 'ColoredMNIST', env) + '.pt')\n"
     ]
    },
    {
     "name": "stdout",
     "output_type": "stream",
     "text": [
      "Colored MNIST dataset already exists\n",
      "Colored MNIST dataset already exists\n",
      "Colored MNIST dataset already exists\n",
      "Colored MNIST dataset already exists\n"
     ]
    }
   ],
   "source": [
    "transform=transforms.Compose([\n",
    "    transforms.ToTensor(),\n",
    "    transforms.Normalize((0.5, 0.5, 0.5), (0.5, 0.5, 0.5))\n",
    "])\n",
    "\n",
    "print(\"Loading\")\n",
    "train_dataset1=ColoredMNIST(root='./data', env='train1', transform=transform)\n",
    "train_dataset2= ColoredMNIST(root='./data', env='train2', transform=transform)\n",
    "train_dataset3= ColoredMNIST(root='./data', env='train3', transform=transform)\n",
    "test_dataset1= ColoredMNIST(root='./data', env='test1', transform=transform)\n",
    "test_dataset2= ColoredMNIST(root='./data', env='test2', transform=transform)"
   ]
  },
  {
   "cell_type": "code",
   "execution_count": 8,
   "id": "c7dfc498",
   "metadata": {},
   "outputs": [
    {
     "name": "stderr",
     "output_type": "stream",
     "text": [
      "/tmp/ipykernel_24370/1836822511.py:1: FutureWarning: You are using `torch.load` with `weights_only=False` (the current default value), which uses the default pickle module implicitly. It is possible to construct malicious pickle data which will execute arbitrary code during unpickling (See https://github.com/pytorch/pytorch/blob/main/SECURITY.md#untrusted-models for more details). In a future release, the default value for `weights_only` will be flipped to `True`. This limits the functions that could be executed during unpickling. Arbitrary objects will no longer be allowed to be loaded via this mode unless they are explicitly allowlisted by the user via `torch.serialization.add_safe_globals`. We recommend you start setting `weights_only=True` for any use case where you don't have full control of the loaded file. Please open an issue on GitHub for any issues related to this experimental feature.\n",
      "  data = torch.load('./data/ColoredMNIST/test2.pt')\n"
     ]
    },
    {
     "name": "stdout",
     "output_type": "stream",
     "text": [
      "Total samples in train1: 15000\n",
      "Sample 0: label = 0, image size = (28, 28)\n"
     ]
    },
    {
     "data": {
      "image/png": "[encoded data removed]",
      "text/plain": [
       "<Figure size 640x480 with 1 Axes>"
      ]
     },
     "metadata": {},
     "output_type": "display_data"
    },
    {
     "name": "stdout",
     "output_type": "stream",
     "text": [
      "Sample 1: label = 0, image size = (28, 28)\n"
     ]
    },
    {
     "data": {
      "image/png": "[encoded data removed]",
      "text/plain": [
       "<Figure size 640x480 with 1 Axes>"
      ]
     },
     "metadata": {},
     "output_type": "display_data"
    },
    {
     "name": "stdout",
     "output_type": "stream",
     "text": [
      "Sample 2: label = 0, image size = (28, 28)\n"
     ]
    },
    {
     "data": {
      "image/png": "[encoded data removed]",
      "text/plain": [
       "<Figure size 640x480 with 1 Axes>"
      ]
     },
     "metadata": {},
     "output_type": "display_data"
    }
   ],
   "source": [
    "data = torch.load('./data/ColoredMNIST/test2.pt')\n",
    "print(f'Total samples in train1: {len(data)}')\n",
    "\n",
    "# 查看前5个样本\n",
    "for i in range(3):\n",
    "    img, label = data[i]\n",
    "    print(f'Sample {i}: label = {label}, image size = {img.size}')\n",
    "    \n",
    "    plt.imshow(img)\n",
    "    plt.title(f'Label: {label}')\n",
    "    plt.axis('off')\n",
    "    plt.show()"
   ]
  }
 ],
 "metadata": {
  "kernelspec": {
   "display_name": "Python 3",
   "language": "python",
   "name": "python3"
  },
  "language_info": {
   "codemirror_mode": {
    "name": "ipython",
    "version": 3
   },
   "file_extension": ".py",
   "mimetype": "text/x-python",
   "name": "python",
   "nbconvert_exporter": "python",
   "pygments_lexer": "ipython3",
   "version": "3.8.20"
  }
 },
 "nbformat": 4,
 "nbformat_minor": 5
}
