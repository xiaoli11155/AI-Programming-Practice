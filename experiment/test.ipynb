{
 "cells": [
  {
   "cell_type": "code",
   "execution_count": 4,
   "id": "cf853d7b",
   "metadata": {},
   "outputs": [
    {
     "name": "stderr",
     "output_type": "stream",
     "text": [
      "C:\\Users\\ASUS\\AppData\\Local\\Temp\\ipykernel_27336\\3988836820.py:5: FutureWarning: You are using `torch.load` with `weights_only=False` (the current default value), which uses the default pickle module implicitly. It is possible to construct malicious pickle data which will execute arbitrary code during unpickling (See https://github.com/pytorch/pytorch/blob/main/SECURITY.md#untrusted-models for more details). In a future release, the default value for `weights_only` will be flipped to `True`. This limits the functions that could be executed during unpickling. Arbitrary objects will no longer be allowed to be loaded via this mode unless they are explicitly allowlisted by the user via `torch.serialization.add_safe_globals`. We recommend you start setting `weights_only=True` for any use case where you don't have full control of the loaded file. Please open an issue on GitHub for any issues related to this experimental feature.\n",
      "  train1_labels = [label for _, label in torch.load('./data/ColoredMNIST/test1.pt')]\n",
      "C:\\Users\\ASUS\\AppData\\Local\\Temp\\ipykernel_27336\\3988836820.py:6: FutureWarning: You are using `torch.load` with `weights_only=False` (the current default value), which uses the default pickle module implicitly. It is possible to construct malicious pickle data which will execute arbitrary code during unpickling (See https://github.com/pytorch/pytorch/blob/main/SECURITY.md#untrusted-models for more details). In a future release, the default value for `weights_only` will be flipped to `True`. This limits the functions that could be executed during unpickling. Arbitrary objects will no longer be allowed to be loaded via this mode unless they are explicitly allowlisted by the user via `torch.serialization.add_safe_globals`. We recommend you start setting `weights_only=True` for any use case where you don't have full control of the loaded file. Please open an issue on GitHub for any issues related to this experimental feature.\n",
      "  train2_labels = [label for _, label in torch.load('./data/ColoredMNIST/train2.pt')]\n",
      "C:\\Users\\ASUS\\AppData\\Local\\Temp\\ipykernel_27336\\3988836820.py:7: FutureWarning: You are using `torch.load` with `weights_only=False` (the current default value), which uses the default pickle module implicitly. It is possible to construct malicious pickle data which will execute arbitrary code during unpickling (See https://github.com/pytorch/pytorch/blob/main/SECURITY.md#untrusted-models for more details). In a future release, the default value for `weights_only` will be flipped to `True`. This limits the functions that could be executed during unpickling. Arbitrary objects will no longer be allowed to be loaded via this mode unless they are explicitly allowlisted by the user via `torch.serialization.add_safe_globals`. We recommend you start setting `weights_only=True` for any use case where you don't have full control of the loaded file. Please open an issue on GitHub for any issues related to this experimental feature.\n",
      "  train3_labels = [label for _, label in torch.load('./data/ColoredMNIST/train3.pt')]\n"
     ]
    },
    {
     "name": "stdout",
     "output_type": "stream",
     "text": [
      "Counter({0: 7611, 1: 7389})\n",
      "Counter({0: 5094, 1: 4906})\n",
      "Counter({0: 5106, 1: 4894})\n"
     ]
    }
   ],
   "source": [
    "# 假设你已加载了数据\n",
    "from collections import Counter\n",
    "import torch\n",
    "\n",
    "train1_labels = [label for _, label in torch.load('./data/ColoredMNIST/test1.pt')]\n",
    "train2_labels = [label for _, label in torch.load('./data/ColoredMNIST/train2.pt')]\n",
    "train3_labels = [label for _, label in torch.load('./data/ColoredMNIST/train3.pt')]\n",
    "\n",
    "print(Counter(train1_labels))  # 红色环境\n",
    "print(Counter(train2_labels))  # 绿色环境\n",
    "print(Counter(train3_labels))  # 绿色环境\n"
   ]
  }
 ],
 "metadata": {
  "kernelspec": {
   "display_name": "test_gpu",
   "language": "python",
   "name": "python3"
  },
  "language_info": {
   "codemirror_mode": {
    "name": "ipython",
    "version": 3
   },
   "file_extension": ".py",
   "mimetype": "text/x-python",
   "name": "python",
   "nbconvert_exporter": "python",
   "pygments_lexer": "ipython3",
   "version": "3.8.20"
  }
 },
 "nbformat": 4,
 "nbformat_minor": 5
}
